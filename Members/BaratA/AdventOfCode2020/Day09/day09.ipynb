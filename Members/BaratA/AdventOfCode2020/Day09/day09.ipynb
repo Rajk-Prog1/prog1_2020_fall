{
 "metadata": {
  "language_info": {
   "codemirror_mode": {
    "name": "ipython",
    "version": 3
   },
   "file_extension": ".py",
   "mimetype": "text/x-python",
   "name": "python",
   "nbconvert_exporter": "python",
   "pygments_lexer": "ipython3",
   "version": "3.8.2-final"
  },
  "orig_nbformat": 2,
  "kernelspec": {
   "name": "python3",
   "display_name": "Python 3.8.2 64-bit",
   "metadata": {
    "interpreter": {
     "hash": "31f2aee4e71d21fbe5cf8b01ff0e069b9275f58929596ceb00d14d90e3e16cd6"
    }
   }
  }
 },
 "nbformat": 4,
 "nbformat_minor": 2,
 "cells": [
  {
   "cell_type": "code",
   "execution_count": 179,
   "metadata": {},
   "outputs": [],
   "source": [
    "with open(\"input.txt\") as f:\n",
    "    rawd = [int(x) for x in f.read().splitlines()]"
   ]
  },
  {
   "cell_type": "code",
   "execution_count": null,
   "metadata": {},
   "outputs": [],
   "source": [
    "print(rawd)"
   ]
  },
  {
   "cell_type": "code",
   "execution_count": 180,
   "metadata": {
    "tags": []
   },
   "outputs": [],
   "source": [
    "def part01(listofnums):\n",
    "    workbench = []\n",
    "    results = []\n",
    "    nemnyert = []\n",
    "    for i in rawd:\n",
    "        if len(workbench) == 25:\n",
    "            for first in workbench:\n",
    "                for second in workbench:\n",
    "                    if first + second == i and first != second:\n",
    "                        results.append(i)\n",
    "            if i not in results:\n",
    "                nemnyert.append(i)\n",
    "            del workbench[0]\n",
    "            workbench.append(i)\n",
    "        else:\n",
    "            workbench.append(i)\n",
    "    #nemnyert = [x for x in nemnyert if x.isdigit()]\n",
    "    return int(nemnyert[0])"
   ]
  },
  {
   "cell_type": "code",
   "execution_count": 160,
   "metadata": {},
   "outputs": [
    {
     "output_type": "execute_result",
     "data": {
      "text/plain": [
       "127"
      ]
     },
     "metadata": {},
     "execution_count": 160
    }
   ],
   "source": [
    "part01(rawd)"
   ]
  },
  {
   "cell_type": "code",
   "execution_count": 177,
   "metadata": {},
   "outputs": [],
   "source": [
    "def part02(listofnums):\n",
    "    target = part01(listofnums)\n",
    "    curr_sum = listofnums[0]\n",
    "    start = 0\n",
    "    i = 1\n",
    "    n = len(listofnums)\n",
    "    listofweakness = sorted(subArraySum(listofnums,n,target))\n",
    "    return listofweakness[0] + listofweakness[-1]"
   ]
  },
  {
   "cell_type": "code",
   "execution_count": 184,
   "metadata": {},
   "outputs": [
    {
     "output_type": "execute_result",
     "data": {
      "text/plain": [
       "2986195"
      ]
     },
     "metadata": {},
     "execution_count": 184
    }
   ],
   "source": [
    "part02(rawd)"
   ]
  },
  {
   "cell_type": "code",
   "execution_count": 183,
   "metadata": {},
   "outputs": [],
   "source": [
    "def subArraySum(arr, n, sum): \n",
    "      \n",
    "    # Initialize curr_sum as \n",
    "    # value of first element \n",
    "    # and starting point as 0  \n",
    "    curr_sum = arr[0] \n",
    "    start = 0\n",
    "  \n",
    "    # Add elements one by  \n",
    "    # one to curr_sum and  \n",
    "    # if the curr_sum exceeds  \n",
    "    # the sum, then remove  \n",
    "    # starting element  \n",
    "    i = 1\n",
    "    while i <= n: \n",
    "          \n",
    "        # If curr_sum exceeds \n",
    "        # the sum, then remove \n",
    "        # the starting elements \n",
    "        while curr_sum > sum and start < i-1: \n",
    "          \n",
    "            curr_sum = curr_sum - arr[start] \n",
    "            start += 1\n",
    "              \n",
    "        # If curr_sum becomes \n",
    "        # equal to sum, then \n",
    "        # return true \n",
    "        if curr_sum == sum:\n",
    "            return arr[start:i]\n",
    "  \n",
    "        # Add this element  \n",
    "        # to curr_sum \n",
    "        if i < n: \n",
    "            curr_sum = curr_sum + arr[i] \n",
    "        i += 1\n",
    "  \n",
    "    # If we reach here,  \n",
    "    # then no subarray \n",
    "    print (\"No subarray found\") \n",
    "    return 0"
   ]
  }
 ]
}