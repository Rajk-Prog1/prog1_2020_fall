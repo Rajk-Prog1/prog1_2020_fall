{
 "metadata": {
  "language_info": {
   "codemirror_mode": {
    "name": "ipython",
    "version": 3
   },
   "file_extension": ".py",
   "mimetype": "text/x-python",
   "name": "python",
   "nbconvert_exporter": "python",
   "pygments_lexer": "ipython3",
   "version": "3.9.1-final"
  },
  "orig_nbformat": 2,
  "kernelspec": {
   "name": "python3",
   "display_name": "Python 3.9.1 64-bit",
   "metadata": {
    "interpreter": {
     "hash": "aee8b7b246df8f9039afb4144a1f6fd8d2ca17a180786b69acc140d282b71a49"
    }
   }
  }
 },
 "nbformat": 4,
 "nbformat_minor": 2,
 "cells": [
  {
   "cell_type": "code",
   "execution_count": 42,
   "metadata": {},
   "outputs": [],
   "source": [
    "with open(\"input.txt\") as f:\n",
    "    rawd = [int(x) for x in f.read().splitlines()]"
   ]
  },
  {
   "cell_type": "code",
   "execution_count": 43,
   "metadata": {},
   "outputs": [
    {
     "output_type": "stream",
     "name": "stdout",
     "text": [
      "[1, 2, 3, 6, 7, 8, 11, 12, 13, 14, 17, 18, 19, 20, 21, 24, 25, 26, 27, 30, 31, 34, 35, 36, 37, 38, 41, 42, 43, 46, 49, 50, 53, 54, 55, 56, 57, 60, 63, 64, 65, 66, 69, 70, 71, 72, 73, 76, 77, 78, 79, 82, 83, 84, 85, 88, 91, 92, 93, 94, 97, 98, 99, 100, 103, 106, 109, 110, 111, 112, 113, 116, 117, 120, 121, 122, 123, 124, 127, 128, 129, 130, 131, 134, 135, 136, 137, 140, 143, 144, 145, 146]\n"
     ]
    }
   ],
   "source": [
    "print(sorted(rawd))"
   ]
  },
  {
   "cell_type": "code",
   "execution_count": 35,
   "metadata": {},
   "outputs": [
    {
     "output_type": "stream",
     "name": "stdout",
     "text": [
      "64\n27\n1820\n"
     ]
    }
   ],
   "source": [
    "rawd = [0, 1, 2, 3, 6, 7, 8, 11, 12, 13, 14, 17, 18, 19, 20, 21, 24, 25, 26, 27, 30, 31, 34, 35, 36, 37, 38, 41, 42, 43, 46, 49, 50, 53, 54, 55, 56, 57, 60, 63, 64, 65, 66, 69, 70, 71, 72, 73, 76, 77, 78, 79, 82, 83, 84, 85, 88, 91, 92, 93, 94, 97, 98, 99, 100, 103, 106, 109, 110, 111, 112, 113, 116, 117, 120, 121, 122, 123, 124, 127, 128, 129, 130, 131, 134, 135, 136, 137, 140, 143, 144, 145, 146]\n",
    "egyes = 0\n",
    "harmas = 0\n",
    "for i in range(len(sorted(rawd))-1):\n",
    "    if rawd[i + 1] - rawd[i] == 1:\n",
    "        egyes += 1\n",
    "    elif rawd[i + 1] - rawd[i] == 3:\n",
    "        harmas += 1\n",
    "print(egyes)\n",
    "print(harmas)\n",
    "print((egyes + 1) * (harmas + 1))"
   ]
  },
  {
   "cell_type": "code",
   "execution_count": 46,
   "metadata": {},
   "outputs": [
    {
     "output_type": "stream",
     "name": "stdout",
     "text": [
      "3454189699072\n"
     ]
    }
   ],
   "source": [
    "counts = []\n",
    "rawd = [0, 1, 2, 3, 6, 7, 8, 11, 12, 13, 14, 17, 18, 19, 20, 21, 24, 25, 26, 27, 30, 31, 34, 35, 36, 37, 38, 41, 42, 43, 46, 49, 50, 53, 54, 55, 56, 57, 60, 63, 64, 65, 66, 69, 70, 71, 72, 73, 76, 77, 78, 79, 82, 83, 84, 85, 88, 91, 92, 93, 94, 97, 98, 99, 100, 103, 106, 109, 110, 111, 112, 113, 116, 117, 120, 121, 122, 123, 124, 127, 128, 129, 130, 131, 134, 135, 136, 137, 140, 143, 144, 145, 146]\n",
    "for i in rawd:\n",
    "    if not counts:\n",
    "        count = 1\n",
    "    else:\n",
    "        count = sum(count for j, count in zip(rawd, counts) if i <= j + 3)\n",
    "    counts.append(count)\n",
    "\n",
    "print(counts[-1])"
   ]
  }
 ]
}